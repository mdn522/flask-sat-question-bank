{
 "cells": [
  {
   "cell_type": "code",
   "id": "initial_id",
   "metadata": {
    "collapsed": true,
    "ExecuteTime": {
     "end_time": "2024-06-03T15:36:28.769586Z",
     "start_time": "2024-06-03T15:36:28.743237Z"
    }
   },
   "source": [
    "import json\n",
    "from pathlib import Path\n",
    "from typing import List, Optional, Dict, Any, Union\n",
    "from peewee import *\n",
    "import os"
   ],
   "outputs": [],
   "execution_count": 6
  },
  {
   "metadata": {
    "ExecuteTime": {
     "end_time": "2024-06-03T15:36:30.064619Z",
     "start_time": "2024-06-03T15:36:30.053795Z"
    }
   },
   "cell_type": "code",
   "source": [
    "import importlib\n",
    "import core\n",
    "importlib.reload(core)\n",
    "from core import db, Question\n",
    "from core import parse_key, get_key, key_to_query_filter"
   ],
   "id": "efe7ec214726d54e",
   "outputs": [],
   "execution_count": 7
  },
  {
   "metadata": {
    "ExecuteTime": {
     "end_time": "2024-06-03T13:47:17.795992Z",
     "start_time": "2024-06-03T13:47:17.779974Z"
    }
   },
   "cell_type": "code",
   "source": [
    "from core import get_categories\n",
    "get_categories('difficulty:easy')"
   ],
   "id": "8de77aba1f877e86",
   "outputs": [
    {
     "name": "stdout",
     "output_type": "stream",
     "text": [
      "difficulty ['easy']\n",
      "filter_dict {'difficulty': ['E']}\n",
      "module all\n",
      "class all\n",
      "skill all\n",
      "difficulty ['easy']\n",
      "active all\n",
      "filter_dict {'difficulty': ['E']}\n"
     ]
    },
    {
     "data": {
      "text/plain": [
       "[{'module': 'english',\n",
       "  'module_count': 324,\n",
       "  'module_first_question_id': '3543e6e2',\n",
       "  'class': 'CAS',\n",
       "  'class_count': 107,\n",
       "  'class_first_question_id': '84b5125b',\n",
       "  'skill': 'CTC',\n",
       "  'skill_count': 14,\n",
       "  'skill_first_question_id': '02fd3da7'},\n",
       " {'module': 'english',\n",
       "  'module_count': 324,\n",
       "  'module_first_question_id': '3543e6e2',\n",
       "  'class': 'CAS',\n",
       "  'class_count': 107,\n",
       "  'class_first_question_id': '84b5125b',\n",
       "  'skill': 'TSP',\n",
       "  'skill_count': 20,\n",
       "  'skill_first_question_id': 'c966ad55'},\n",
       " {'module': 'english',\n",
       "  'module_count': 324,\n",
       "  'module_first_question_id': '3543e6e2',\n",
       "  'class': 'CAS',\n",
       "  'class_count': 107,\n",
       "  'class_first_question_id': '84b5125b',\n",
       "  'skill': 'WIC',\n",
       "  'skill_count': 73,\n",
       "  'skill_first_question_id': '84b5125b'},\n",
       " {'module': 'english',\n",
       "  'module_count': 324,\n",
       "  'module_first_question_id': '3543e6e2',\n",
       "  'class': 'EOI',\n",
       "  'class_count': 57,\n",
       "  'class_first_question_id': '660d50dc',\n",
       "  'skill': 'SYN',\n",
       "  'skill_count': 19,\n",
       "  'skill_first_question_id': '264e7415'},\n",
       " {'module': 'english',\n",
       "  'module_count': 324,\n",
       "  'module_first_question_id': '3543e6e2',\n",
       "  'class': 'EOI',\n",
       "  'class_count': 57,\n",
       "  'class_first_question_id': '660d50dc',\n",
       "  'skill': 'TRA',\n",
       "  'skill_count': 38,\n",
       "  'skill_first_question_id': '660d50dc'},\n",
       " {'module': 'english',\n",
       "  'module_count': 324,\n",
       "  'module_first_question_id': '3543e6e2',\n",
       "  'class': 'INI',\n",
       "  'class_count': 71,\n",
       "  'class_first_question_id': '3543e6e2',\n",
       "  'skill': 'CID',\n",
       "  'skill_count': 20,\n",
       "  'skill_first_question_id': '3543e6e2'},\n",
       " {'module': 'english',\n",
       "  'module_count': 324,\n",
       "  'module_first_question_id': '3543e6e2',\n",
       "  'class': 'INI',\n",
       "  'class_count': 71,\n",
       "  'class_first_question_id': '3543e6e2',\n",
       "  'skill': 'COE',\n",
       "  'skill_count': 37,\n",
       "  'skill_first_question_id': '75e07a4d'},\n",
       " {'module': 'english',\n",
       "  'module_count': 324,\n",
       "  'module_first_question_id': '3543e6e2',\n",
       "  'class': 'INI',\n",
       "  'class_count': 71,\n",
       "  'class_first_question_id': '3543e6e2',\n",
       "  'skill': 'INF',\n",
       "  'skill_count': 14,\n",
       "  'skill_first_question_id': '01989d77'},\n",
       " {'module': 'english',\n",
       "  'module_count': 324,\n",
       "  'module_first_question_id': '3543e6e2',\n",
       "  'class': 'SEC',\n",
       "  'class_count': 89,\n",
       "  'class_first_question_id': 'de55ec71',\n",
       "  'skill': 'BOU',\n",
       "  'skill_count': 34,\n",
       "  'skill_first_question_id': 'de55ec71'},\n",
       " {'module': 'english',\n",
       "  'module_count': 324,\n",
       "  'module_first_question_id': '3543e6e2',\n",
       "  'class': 'SEC',\n",
       "  'class_count': 89,\n",
       "  'class_first_question_id': 'de55ec71',\n",
       "  'skill': 'FSS',\n",
       "  'skill_count': 55,\n",
       "  'skill_first_question_id': 'e38b3e4f'},\n",
       " {'module': 'math',\n",
       "  'module_count': 381,\n",
       "  'module_first_question_id': '88e13c8c',\n",
       "  'class': 'H',\n",
       "  'class_count': 151,\n",
       "  'class_first_question_id': '88e13c8c',\n",
       "  'skill': 'H.A.',\n",
       "  'skill_count': 36,\n",
       "  'skill_first_question_id': '097e10f5'},\n",
       " {'module': 'math',\n",
       "  'module_count': 381,\n",
       "  'module_first_question_id': '88e13c8c',\n",
       "  'class': 'H',\n",
       "  'class_count': 151,\n",
       "  'class_first_question_id': '88e13c8c',\n",
       "  'skill': 'H.B.',\n",
       "  'skill_count': 39,\n",
       "  'skill_first_question_id': '88e13c8c'},\n",
       " {'module': 'math',\n",
       "  'module_count': 381,\n",
       "  'module_first_question_id': '88e13c8c',\n",
       "  'class': 'H',\n",
       "  'class_count': 151,\n",
       "  'class_first_question_id': '88e13c8c',\n",
       "  'skill': 'H.C.',\n",
       "  'skill_count': 39,\n",
       "  'skill_first_question_id': 'ee846db7'},\n",
       " {'module': 'math',\n",
       "  'module_count': 381,\n",
       "  'module_first_question_id': '88e13c8c',\n",
       "  'class': 'H',\n",
       "  'class_count': 151,\n",
       "  'class_first_question_id': '88e13c8c',\n",
       "  'skill': 'H.D.',\n",
       "  'skill_count': 22,\n",
       "  'skill_first_question_id': 'b86123af'},\n",
       " {'module': 'math',\n",
       "  'module_count': 381,\n",
       "  'module_first_question_id': '88e13c8c',\n",
       "  'class': 'H',\n",
       "  'class_count': 151,\n",
       "  'class_first_question_id': '88e13c8c',\n",
       "  'skill': 'H.E.',\n",
       "  'skill_count': 15,\n",
       "  'skill_first_question_id': 'cfe67646'},\n",
       " {'module': 'math',\n",
       "  'module_count': 381,\n",
       "  'module_first_question_id': '88e13c8c',\n",
       "  'class': 'P',\n",
       "  'class_count': 73,\n",
       "  'class_first_question_id': 'f5c3e3b8',\n",
       "  'skill': 'P.A.',\n",
       "  'skill_count': 26,\n",
       "  'skill_first_question_id': 'f5c3e3b8'},\n",
       " {'module': 'math',\n",
       "  'module_count': 381,\n",
       "  'module_first_question_id': '88e13c8c',\n",
       "  'class': 'P',\n",
       "  'class_count': 73,\n",
       "  'class_first_question_id': 'f5c3e3b8',\n",
       "  'skill': 'P.B.',\n",
       "  'skill_count': 20,\n",
       "  'skill_first_question_id': '3c95093c'},\n",
       " {'module': 'math',\n",
       "  'module_count': 381,\n",
       "  'module_first_question_id': '88e13c8c',\n",
       "  'class': 'P',\n",
       "  'class_count': 73,\n",
       "  'class_first_question_id': 'f5c3e3b8',\n",
       "  'skill': 'P.C.',\n",
       "  'skill_count': 27,\n",
       "  'skill_first_question_id': '4fbffc0a'},\n",
       " {'module': 'math',\n",
       "  'module_count': 381,\n",
       "  'module_first_question_id': '88e13c8c',\n",
       "  'class': 'Q',\n",
       "  'class_count': 116,\n",
       "  'class_first_question_id': '3c8fdc40',\n",
       "  'skill': 'Q.A.',\n",
       "  'skill_count': 26,\n",
       "  'skill_first_question_id': '3c8fdc40'},\n",
       " {'module': 'math',\n",
       "  'module_count': 381,\n",
       "  'module_first_question_id': '88e13c8c',\n",
       "  'class': 'Q',\n",
       "  'class_count': 116,\n",
       "  'class_first_question_id': '3c8fdc40',\n",
       "  'skill': 'Q.B.',\n",
       "  'skill_count': 21,\n",
       "  'skill_first_question_id': 'bd90f87e'},\n",
       " {'module': 'math',\n",
       "  'module_count': 381,\n",
       "  'module_first_question_id': '88e13c8c',\n",
       "  'class': 'Q',\n",
       "  'class_count': 116,\n",
       "  'class_first_question_id': '3c8fdc40',\n",
       "  'skill': 'Q.C.',\n",
       "  'skill_count': 24,\n",
       "  'skill_first_question_id': 'f890dc20'},\n",
       " {'module': 'math',\n",
       "  'module_count': 381,\n",
       "  'module_first_question_id': '88e13c8c',\n",
       "  'class': 'Q',\n",
       "  'class_count': 116,\n",
       "  'class_first_question_id': '3c8fdc40',\n",
       "  'skill': 'Q.D.',\n",
       "  'skill_count': 21,\n",
       "  'skill_first_question_id': '82aaa0a1'},\n",
       " {'module': 'math',\n",
       "  'module_count': 381,\n",
       "  'module_first_question_id': '88e13c8c',\n",
       "  'class': 'Q',\n",
       "  'class_count': 116,\n",
       "  'class_first_question_id': '3c8fdc40',\n",
       "  'skill': 'Q.E.',\n",
       "  'skill_count': 16,\n",
       "  'skill_first_question_id': 'eccbf957'},\n",
       " {'module': 'math',\n",
       "  'module_count': 381,\n",
       "  'module_first_question_id': '88e13c8c',\n",
       "  'class': 'Q',\n",
       "  'class_count': 116,\n",
       "  'class_first_question_id': '3c8fdc40',\n",
       "  'skill': 'Q.F.',\n",
       "  'skill_count': 6,\n",
       "  'skill_first_question_id': 'affb2315'},\n",
       " {'module': 'math',\n",
       "  'module_count': 381,\n",
       "  'module_first_question_id': '88e13c8c',\n",
       "  'class': 'Q',\n",
       "  'class_count': 116,\n",
       "  'class_first_question_id': '3c8fdc40',\n",
       "  'skill': 'Q.G.',\n",
       "  'skill_count': 2,\n",
       "  'skill_first_question_id': '9bf4c545'},\n",
       " {'module': 'math',\n",
       "  'module_count': 381,\n",
       "  'module_first_question_id': '88e13c8c',\n",
       "  'class': 'S',\n",
       "  'class_count': 41,\n",
       "  'class_first_question_id': '5207e508',\n",
       "  'skill': 'S.A.',\n",
       "  'skill_count': 15,\n",
       "  'skill_first_question_id': '5252e606'},\n",
       " {'module': 'math',\n",
       "  'module_count': 381,\n",
       "  'module_first_question_id': '88e13c8c',\n",
       "  'class': 'S',\n",
       "  'class_count': 41,\n",
       "  'class_first_question_id': '5207e508',\n",
       "  'skill': 'S.B.',\n",
       "  'skill_count': 22,\n",
       "  'skill_first_question_id': '5207e508'},\n",
       " {'module': 'math',\n",
       "  'module_count': 381,\n",
       "  'module_first_question_id': '88e13c8c',\n",
       "  'class': 'S',\n",
       "  'class_count': 41,\n",
       "  'class_first_question_id': '5207e508',\n",
       "  'skill': 'S.C.',\n",
       "  'skill_count': 3,\n",
       "  'skill_first_question_id': 'b0c5ece5'},\n",
       " {'module': 'math',\n",
       "  'module_count': 381,\n",
       "  'module_first_question_id': '88e13c8c',\n",
       "  'class': 'S',\n",
       "  'class_count': 41,\n",
       "  'class_first_question_id': '5207e508',\n",
       "  'skill': 'S.D.',\n",
       "  'skill_count': 1,\n",
       "  'skill_first_question_id': '23c5fcce'}]"
      ]
     },
     "execution_count": 5,
     "metadata": {},
     "output_type": "execute_result"
    }
   ],
   "execution_count": 5
  },
  {
   "metadata": {
    "ExecuteTime": {
     "end_time": "2024-06-03T03:37:58.277990Z",
     "start_time": "2024-06-03T03:37:58.273369Z"
    }
   },
   "cell_type": "code",
   "source": [
    "# DB Connect\n",
    "db = SqliteDatabase('data/index.db')\n",
    "db.connect()"
   ],
   "id": "df8a826ec8a73126",
   "outputs": [
    {
     "data": {
      "text/plain": [
       "True"
      ]
     },
     "execution_count": 2,
     "metadata": {},
     "output_type": "execute_result"
    }
   ],
   "execution_count": 2
  },
  {
   "metadata": {
    "ExecuteTime": {
     "end_time": "2024-05-28T09:34:11.939953Z",
     "start_time": "2024-05-28T09:34:11.929492Z"
    }
   },
   "cell_type": "code",
   "source": [
    "# db.close()\n",
    "# os.remove('data/index.db')"
   ],
   "id": "cfd49a4d06636a34",
   "outputs": [
    {
     "ename": "PermissionError",
     "evalue": "[WinError 32] The process cannot access the file because it is being used by another process: 'data/index.db'",
     "output_type": "error",
     "traceback": [
      "\u001B[1;31m---------------------------------------------------------------------------\u001B[0m",
      "\u001B[1;31mPermissionError\u001B[0m                           Traceback (most recent call last)",
      "Cell \u001B[1;32mIn[15], line 2\u001B[0m\n\u001B[0;32m      1\u001B[0m db\u001B[38;5;241m.\u001B[39mclose()\n\u001B[1;32m----> 2\u001B[0m \u001B[43mos\u001B[49m\u001B[38;5;241;43m.\u001B[39;49m\u001B[43mremove\u001B[49m\u001B[43m(\u001B[49m\u001B[38;5;124;43m'\u001B[39;49m\u001B[38;5;124;43mdata/index.db\u001B[39;49m\u001B[38;5;124;43m'\u001B[39;49m\u001B[43m)\u001B[49m\n",
      "\u001B[1;31mPermissionError\u001B[0m: [WinError 32] The process cannot access the file because it is being used by another process: 'data/index.db'"
     ]
    }
   ],
   "execution_count": 15
  },
  {
   "metadata": {
    "ExecuteTime": {
     "end_time": "2024-06-03T03:37:58.481145Z",
     "start_time": "2024-06-03T03:37:58.277990Z"
    }
   },
   "cell_type": "code",
   "source": [
    "# Load data\n",
    "data_path = Path('.').parent / 'data'\n",
    "db_path = data_path / r\"cb-digital-questions.json\"\n",
    "with db_path.open(encoding='utf-8') as fp:\n",
    "    questions = json.load(fp)\n",
    "\n",
    "with (data_path / r\"lookup.json\").open(encoding='utf-8') as fp:\n",
    "    filter_data = json.load(fp)\n",
    "\n",
    "    for k, v in [('mathLiveItems', 'math'), ('readingLiveItems', 'english')]:\n",
    "        filter_data[v] = filter_data[k]\n",
    "        del filter_data[k]\n",
    "\n",
    "question_id_map = {}\n",
    "for q_id, q in questions.items():\n",
    "    question_id_map[q['questionId']] = q_id"
   ],
   "id": "c9a2d219f07279da",
   "outputs": [],
   "execution_count": 3
  },
  {
   "metadata": {
    "ExecuteTime": {
     "end_time": "2024-06-03T03:37:58.485696Z",
     "start_time": "2024-06-03T03:37:58.482161Z"
    }
   },
   "cell_type": "code",
   "source": "",
   "id": "d366c041a487dc4d",
   "outputs": [],
   "execution_count": 4
  },
  {
   "metadata": {
    "ExecuteTime": {
     "end_time": "2024-05-28T09:40:18.983129Z",
     "start_time": "2024-05-28T09:40:18.967228Z"
    }
   },
   "cell_type": "code",
   "source": [
    "# Create Tables\n",
    "db.drop_tables([Question])\n",
    "db.create_tables([Question])"
   ],
   "id": "8a7a79c9f7270ef8",
   "outputs": [],
   "execution_count": 31
  },
  {
   "metadata": {
    "ExecuteTime": {
     "end_time": "2024-06-03T03:37:58.493858Z",
     "start_time": "2024-06-03T03:37:58.487221Z"
    }
   },
   "cell_type": "code",
   "source": "",
   "id": "57124a0a9944caca",
   "outputs": [],
   "execution_count": 5
  },
  {
   "metadata": {
    "ExecuteTime": {
     "end_time": "2024-05-28T09:40:24.452656Z",
     "start_time": "2024-05-28T09:40:24.354652Z"
    }
   },
   "cell_type": "code",
   "source": [
    "# Add Question to DB\n",
    "questions_model = []\n",
    "for q_id, q_meta in questions.items():\n",
    "    question = Question(\n",
    "        q_id=q_id,\n",
    "        questionId=q_meta['questionId'],\n",
    "        skill_cd=q_meta['skill_cd'],\n",
    "        score_band_range_cd=q_meta['score_band_range_cd'],\n",
    "        uId=q_meta['uId'],\n",
    "        program=q_meta['program'],\n",
    "        external_id=q_meta['external_id'],\n",
    "        primary_class_cd=q_meta['primary_class_cd'],\n",
    "        difficulty=q_meta['difficulty'],\n",
    "        module=q_meta['module'],\n",
    "        active=q_meta['external_id'] in filter_data[q_meta['module']]\n",
    "    )\n",
    "    questions_model.append(question)\n",
    "\n",
    "Question.bulk_create(questions_model)"
   ],
   "id": "bb8e7223d36ac1dd",
   "outputs": [],
   "execution_count": 32
  },
  {
   "metadata": {
    "ExecuteTime": {
     "end_time": "2024-06-03T03:37:58.976240Z",
     "start_time": "2024-06-03T03:37:58.970655Z"
    }
   },
   "cell_type": "code",
   "source": "Question.select().where(Question.active == False).count()",
   "id": "d020fa020d91227e",
   "outputs": [
    {
     "data": {
      "text/plain": [
       "956"
      ]
     },
     "execution_count": 6,
     "metadata": {},
     "output_type": "execute_result"
    }
   ],
   "execution_count": 6
  },
  {
   "metadata": {
    "ExecuteTime": {
     "end_time": "2024-06-03T03:38:00.502547Z",
     "start_time": "2024-06-03T03:38:00.498556Z"
    }
   },
   "cell_type": "code",
   "source": [
    "def questions_filter(where = None) -> List[Question]:\n",
    "    print(Question.select().where(where).count())\n",
    "    \n",
    "    # query = Question.select().where(\n",
    "    #     Question.module == module,\n",
    "    #     Question.skill_cd == skill_cd,\n",
    "    #     Question.primary_class_cd == primary_class_cd,\n",
    "    #     Question.active.in_(active)\n",
    "    # )\n",
    "    # \n",
    "    # return list(query)"
   ],
   "id": "8db233fe2ca78f64",
   "outputs": [],
   "execution_count": 7
  },
  {
   "metadata": {
    "ExecuteTime": {
     "end_time": "2024-06-03T03:38:01.236632Z",
     "start_time": "2024-06-03T03:38:01.231886Z"
    }
   },
   "cell_type": "code",
   "source": "questions_filter(module='math')",
   "id": "f53791518fb902e4",
   "outputs": [
    {
     "name": "stdout",
     "output_type": "stream",
     "text": [
      "1079\n"
     ]
    }
   ],
   "execution_count": 8
  },
  {
   "metadata": {
    "ExecuteTime": {
     "end_time": "2024-06-03T04:30:44.933079Z",
     "start_time": "2024-06-03T04:30:44.921463Z"
    }
   },
   "cell_type": "code",
   "source": [
    "\n",
    "\n",
    "print(parse_key(''))\n",
    "\n",
    "parse_key(get_key(module='math', primary_class_cd='CAS', skill_cd='all', difficulty='all', active='all'))"
   ],
   "id": "c23989d089dd9c9a",
   "outputs": [
    {
     "name": "stdout",
     "output_type": "stream",
     "text": [
      "{}\n",
      "{}\n",
      "module math\n",
      "class CAS\n",
      "skill all\n",
      "difficulty ['all']\n",
      "active all\n",
      "{'module': 'math', 'class': 'CAS'}\n"
     ]
    },
    {
     "data": {
      "text/plain": [
       "{'module': 'math', 'class': 'CAS'}"
      ]
     },
     "execution_count": 70,
     "metadata": {},
     "output_type": "execute_result"
    }
   ],
   "execution_count": 70
  },
  {
   "metadata": {
    "ExecuteTime": {
     "end_time": "2024-06-03T03:52:25.506526Z",
     "start_time": "2024-06-03T03:52:25.496322Z"
    }
   },
   "cell_type": "code",
   "source": "",
   "id": "b4932e50ba4085b6",
   "outputs": [
    {
     "name": "stdout",
     "output_type": "stream",
     "text": [
      "Module: english, Count: 938\n",
      "Module: math, Count: 1079\n",
      "Module: english, Class: CAS, Count: 247\n",
      "Module: english, Class: EOI, Count: 189\n",
      "Module: english, Class: INI, Count: 291\n",
      "Module: english, Class: SEC, Count: 211\n",
      "Module: math, Class: H, Count: 343\n",
      "Module: math, Class: P, Count: 306\n",
      "Module: math, Class: Q, Count: 277\n",
      "Module: math, Class: S, Count: 153\n",
      "Module: english, Class: CAS, Skill: CTC, Count: 45\n",
      "Module: english, Class: CAS, Skill: TSP, Count: 72\n",
      "Module: english, Class: CAS, Skill: WIC, Count: 130\n",
      "Module: english, Class: EOI, Skill: SYN, Count: 103\n",
      "Module: english, Class: EOI, Skill: TRA, Count: 86\n",
      "Module: english, Class: INI, Skill: CID, Count: 66\n",
      "Module: english, Class: INI, Skill: COE, Count: 151\n",
      "Module: english, Class: INI, Skill: INF, Count: 74\n",
      "Module: english, Class: SEC, Skill: BOU, Count: 107\n",
      "Module: english, Class: SEC, Skill: FSS, Count: 104\n",
      "Module: math, Class: H, Skill: H.A., Count: 65\n",
      "Module: math, Class: H, Skill: H.B., Count: 87\n",
      "Module: math, Class: H, Skill: H.C., Count: 78\n",
      "Module: math, Class: H, Skill: H.D., Count: 66\n",
      "Module: math, Class: H, Skill: H.E., Count: 47\n",
      "Module: math, Class: P, Skill: P.A., Count: 79\n",
      "Module: math, Class: P, Skill: P.B., Count: 95\n",
      "Module: math, Class: P, Skill: P.C., Count: 132\n",
      "Module: math, Class: Q, Skill: Q.A., Count: 57\n",
      "Module: math, Class: Q, Skill: Q.B., Count: 53\n",
      "Module: math, Class: Q, Skill: Q.C., Count: 56\n",
      "Module: math, Class: Q, Skill: Q.D., Count: 45\n",
      "Module: math, Class: Q, Skill: Q.E., Count: 36\n",
      "Module: math, Class: Q, Skill: Q.F., Count: 20\n",
      "Module: math, Class: Q, Skill: Q.G., Count: 10\n",
      "Module: math, Class: S, Skill: S.A., Count: 44\n",
      "Module: math, Class: S, Skill: S.B., Count: 49\n",
      "Module: math, Class: S, Skill: S.C., Count: 31\n",
      "Module: math, Class: S, Skill: S.D., Count: 29\n",
      "[{'module': 'english', 'module_count': 938, 'module_first_question_id': 'f1bfbed3', 'class': 'CAS', 'class_count': 247, 'class_first_question_id': '84b5125b', 'skill': 'CTC', 'skill_count': 45, 'skill_first_question_id': '97e5bf55'}, {'module': 'english', 'module_count': 938, 'module_first_question_id': 'f1bfbed3', 'class': 'CAS', 'class_count': 247, 'class_first_question_id': '84b5125b', 'skill': 'TSP', 'skill_count': 72, 'skill_first_question_id': 'ca50de52'}, {'module': 'english', 'module_count': 938, 'module_first_question_id': 'f1bfbed3', 'class': 'CAS', 'class_count': 247, 'class_first_question_id': '84b5125b', 'skill': 'WIC', 'skill_count': 130, 'skill_first_question_id': '84b5125b'}, {'module': 'english', 'module_count': 938, 'module_first_question_id': 'f1bfbed3', 'class': 'EOI', 'class_count': 189, 'class_first_question_id': 'afec1a70', 'skill': 'SYN', 'skill_count': 103, 'skill_first_question_id': 'afec1a70'}, {'module': 'english', 'module_count': 938, 'module_first_question_id': 'f1bfbed3', 'class': 'EOI', 'class_count': 189, 'class_first_question_id': 'afec1a70', 'skill': 'TRA', 'skill_count': 86, 'skill_first_question_id': '660d50dc'}, {'module': 'english', 'module_count': 938, 'module_first_question_id': 'f1bfbed3', 'class': 'INI', 'class_count': 291, 'class_first_question_id': 'f1bfbed3', 'skill': 'CID', 'skill_count': 66, 'skill_first_question_id': '87aa7bab'}, {'module': 'english', 'module_count': 938, 'module_first_question_id': 'f1bfbed3', 'class': 'INI', 'class_count': 291, 'class_first_question_id': 'f1bfbed3', 'skill': 'COE', 'skill_count': 151, 'skill_first_question_id': 'a15b3219'}, {'module': 'english', 'module_count': 938, 'module_first_question_id': 'f1bfbed3', 'class': 'INI', 'class_count': 291, 'class_first_question_id': 'f1bfbed3', 'skill': 'INF', 'skill_count': 74, 'skill_first_question_id': 'f1bfbed3'}, {'module': 'english', 'module_count': 938, 'module_first_question_id': 'f1bfbed3', 'class': 'SEC', 'class_count': 211, 'class_first_question_id': 'de55ec71', 'skill': 'BOU', 'skill_count': 107, 'skill_first_question_id': 'de55ec71'}, {'module': 'english', 'module_count': 938, 'module_first_question_id': 'f1bfbed3', 'class': 'SEC', 'class_count': 211, 'class_first_question_id': 'de55ec71', 'skill': 'FSS', 'skill_count': 104, 'skill_first_question_id': 'e38b3e4f'}, {'module': 'math', 'module_count': 1079, 'module_first_question_id': '002dba45', 'class': 'H', 'class_count': 343, 'class_first_question_id': '002dba45', 'skill': 'H.A.', 'skill_count': 65, 'skill_first_question_id': '2937ef4f'}, {'module': 'math', 'module_count': 1079, 'module_first_question_id': '002dba45', 'class': 'H', 'class_count': 343, 'class_first_question_id': '002dba45', 'skill': 'H.B.', 'skill_count': 87, 'skill_first_question_id': '88e13c8c'}, {'module': 'math', 'module_count': 1079, 'module_first_question_id': '002dba45', 'class': 'H', 'class_count': 343, 'class_first_question_id': '002dba45', 'skill': 'H.C.', 'skill_count': 78, 'skill_first_question_id': '002dba45'}, {'module': 'math', 'module_count': 1079, 'module_first_question_id': '002dba45', 'class': 'H', 'class_count': 343, 'class_first_question_id': '002dba45', 'skill': 'H.D.', 'skill_count': 66, 'skill_first_question_id': 'd1b66ae6'}, {'module': 'math', 'module_count': 1079, 'module_first_question_id': '002dba45', 'class': 'H', 'class_count': 343, 'class_first_question_id': '002dba45', 'skill': 'H.E.', 'skill_count': 47, 'skill_first_question_id': 'f224df07'}, {'module': 'math', 'module_count': 1079, 'module_first_question_id': '002dba45', 'class': 'P', 'class_count': 306, 'class_first_question_id': 'beca03de', 'skill': 'P.A.', 'skill_count': 79, 'skill_first_question_id': 'f5c3e3b8'}, {'module': 'math', 'module_count': 1079, 'module_first_question_id': '002dba45', 'class': 'P', 'class_count': 306, 'class_first_question_id': 'beca03de', 'skill': 'P.B.', 'skill_count': 95, 'skill_first_question_id': 'a5663025'}, {'module': 'math', 'module_count': 1079, 'module_first_question_id': '002dba45', 'class': 'P', 'class_count': 306, 'class_first_question_id': 'beca03de', 'skill': 'P.C.', 'skill_count': 132, 'skill_first_question_id': 'beca03de'}, {'module': 'math', 'module_count': 1079, 'module_first_question_id': '002dba45', 'class': 'Q', 'class_count': 277, 'class_first_question_id': '85939da5', 'skill': 'Q.A.', 'skill_count': 57, 'skill_first_question_id': '3c8fdc40'}, {'module': 'math', 'module_count': 1079, 'module_first_question_id': '002dba45', 'class': 'Q', 'class_count': 277, 'class_first_question_id': '85939da5', 'skill': 'Q.B.', 'skill_count': 53, 'skill_first_question_id': '954943a4'}, {'module': 'math', 'module_count': 1079, 'module_first_question_id': '002dba45', 'class': 'Q', 'class_count': 277, 'class_first_question_id': '85939da5', 'skill': 'Q.C.', 'skill_count': 56, 'skill_first_question_id': 'f890dc20'}, {'module': 'math', 'module_count': 1079, 'module_first_question_id': '002dba45', 'class': 'Q', 'class_count': 277, 'class_first_question_id': '85939da5', 'skill': 'Q.D.', 'skill_count': 45, 'skill_first_question_id': '1adb39f0'}, {'module': 'math', 'module_count': 1079, 'module_first_question_id': '002dba45', 'class': 'Q', 'class_count': 277, 'class_first_question_id': '85939da5', 'skill': 'Q.E.', 'skill_count': 36, 'skill_first_question_id': 'e29586d5'}, {'module': 'math', 'module_count': 1079, 'module_first_question_id': '002dba45', 'class': 'Q', 'class_count': 277, 'class_first_question_id': '85939da5', 'skill': 'Q.F.', 'skill_count': 20, 'skill_first_question_id': '85939da5'}, {'module': 'math', 'module_count': 1079, 'module_first_question_id': '002dba45', 'class': 'Q', 'class_count': 277, 'class_first_question_id': '85939da5', 'skill': 'Q.G.', 'skill_count': 10, 'skill_first_question_id': '1ea09200'}, {'module': 'math', 'module_count': 1079, 'module_first_question_id': '002dba45', 'class': 'S', 'class_count': 153, 'class_first_question_id': '6d99b141', 'skill': 'S.A.', 'skill_count': 44, 'skill_first_question_id': 'f67e4efc'}, {'module': 'math', 'module_count': 1079, 'module_first_question_id': '002dba45', 'class': 'S', 'class_count': 153, 'class_first_question_id': '6d99b141', 'skill': 'S.B.', 'skill_count': 49, 'skill_first_question_id': '6d99b141'}, {'module': 'math', 'module_count': 1079, 'module_first_question_id': '002dba45', 'class': 'S', 'class_count': 153, 'class_first_question_id': '6d99b141', 'skill': 'S.C.', 'skill_count': 31, 'skill_first_question_id': 'bcb66188'}, {'module': 'math', 'module_count': 1079, 'module_first_question_id': '002dba45', 'class': 'S', 'class_count': 153, 'class_first_question_id': '6d99b141', 'skill': 'S.D.', 'skill_count': 29, 'skill_first_question_id': 'c8345903'}]\n"
     ]
    }
   ],
   "execution_count": 29
  },
  {
   "metadata": {
    "ExecuteTime": {
     "end_time": "2024-05-30T16:23:35.528058Z",
     "start_time": "2024-05-30T16:23:35.521788Z"
    }
   },
   "cell_type": "code",
   "source": [
    "# category -> subcategory\n",
    "# primary_class_cd -> skill_cd\n",
    "\n",
    "query = (\n",
    "    Question.select(\n",
    "        Question.primary_class_cd.alias(\"primary_class\"),\n",
    "        Question.skill_cd.alias(\"skill\"),\n",
    "        # fn.COUNT(Question.primary_class_cd).filter(Question.primary_class_cd == Question.primary_class_cd).alias(\"primary_class_count\"),\n",
    "        # SQL(\"(SELECT Count(*) FROM question WHERE primary_class_cd = primary_class_cd) as primary_class_count\"),\n",
    "        (Question.select(SQL('COUNT(*) AS primary_class_count')).where(Question.primary_class_cd == Question.primary_class_cd).order_by(Question.primary_class_cd).group_by(Question.primary_class_cd)).alias(\"primary_class_count\"),\n",
    "        \n",
    "        # fn.COUNT(Question.primary_class_cd).alias(\"primary_class_count\"),\n",
    "        fn.COUNT(Question.skill_cd).alias(\"skill_count\"),\n",
    "    )\n",
    "    # .where(Question.difficulty == 'E')\n",
    "    .order_by(Question.module, Question.primary_class_cd, Question.skill_cd)\n",
    "    .group_by(Question.module, Question.skill_cd)\n",
    ")\n",
    "\n",
    "# Execute the query and iterate through results\n",
    "for row in query:\n",
    "    print(\n",
    "        f\"primary_class: {row.primary_class}, skill: {row.skill}, primary_class_count: {row.primary_class_count}, skill_count: {row.skill_count}\"\n",
    "    )"
   ],
   "id": "79e9c503ecee5313",
   "outputs": [
    {
     "name": "stdout",
     "output_type": "stream",
     "text": [
      "primary_class: CAS, skill: CTC, primary_class_count: 247, skill_count: 45\n",
      "primary_class: CAS, skill: TSP, primary_class_count: 247, skill_count: 72\n",
      "primary_class: CAS, skill: WIC, primary_class_count: 247, skill_count: 130\n",
      "primary_class: EOI, skill: SYN, primary_class_count: 247, skill_count: 103\n",
      "primary_class: EOI, skill: TRA, primary_class_count: 247, skill_count: 86\n",
      "primary_class: INI, skill: CID, primary_class_count: 247, skill_count: 66\n",
      "primary_class: INI, skill: COE, primary_class_count: 247, skill_count: 151\n",
      "primary_class: INI, skill: INF, primary_class_count: 247, skill_count: 74\n",
      "primary_class: SEC, skill: BOU, primary_class_count: 247, skill_count: 107\n",
      "primary_class: SEC, skill: FSS, primary_class_count: 247, skill_count: 104\n",
      "primary_class: H, skill: H.A., primary_class_count: 247, skill_count: 65\n",
      "primary_class: H, skill: H.B., primary_class_count: 247, skill_count: 87\n",
      "primary_class: H, skill: H.C., primary_class_count: 247, skill_count: 78\n",
      "primary_class: H, skill: H.D., primary_class_count: 247, skill_count: 66\n",
      "primary_class: H, skill: H.E., primary_class_count: 247, skill_count: 47\n",
      "primary_class: P, skill: P.A., primary_class_count: 247, skill_count: 79\n",
      "primary_class: P, skill: P.B., primary_class_count: 247, skill_count: 95\n",
      "primary_class: P, skill: P.C., primary_class_count: 247, skill_count: 132\n",
      "primary_class: Q, skill: Q.A., primary_class_count: 247, skill_count: 57\n",
      "primary_class: Q, skill: Q.B., primary_class_count: 247, skill_count: 53\n",
      "primary_class: Q, skill: Q.C., primary_class_count: 247, skill_count: 56\n",
      "primary_class: Q, skill: Q.D., primary_class_count: 247, skill_count: 45\n",
      "primary_class: Q, skill: Q.E., primary_class_count: 247, skill_count: 36\n",
      "primary_class: Q, skill: Q.F., primary_class_count: 247, skill_count: 20\n",
      "primary_class: Q, skill: Q.G., primary_class_count: 247, skill_count: 10\n",
      "primary_class: S, skill: S.A., primary_class_count: 247, skill_count: 44\n",
      "primary_class: S, skill: S.B., primary_class_count: 247, skill_count: 49\n",
      "primary_class: S, skill: S.C., primary_class_count: 247, skill_count: 31\n",
      "primary_class: S, skill: S.D., primary_class_count: 247, skill_count: 29\n"
     ]
    }
   ],
   "execution_count": 15
  },
  {
   "metadata": {
    "ExecuteTime": {
     "end_time": "2024-06-03T03:42:50.870470Z",
     "start_time": "2024-06-03T03:42:50.865253Z"
    }
   },
   "cell_type": "code",
   "source": [
    "question_class_counts = (\n",
    "    Question.select(\n",
    "        Question.module, \n",
    "        Question.primary_class_cd, \n",
    "        fn.COUNT().alias('count'),\n",
    "        Question.questionId.alias('first_question_id_class')\n",
    "    )\n",
    "    # .where(Question.difficulty == 'E')\n",
    "    .order_by(Question.module, Question.primary_class_cd)\n",
    "    .group_by(Question.primary_class_cd)\n",
    ")\n",
    "\n",
    "for question in question_class_counts:\n",
    "    print(f\"Module: {question.module}, Class: {question.primary_class_cd}, Count: {question.count}, QuestionId: {question.first_question_id_class}\")"
   ],
   "id": "111c7fed58a2e56a",
   "outputs": [
    {
     "name": "stdout",
     "output_type": "stream",
     "text": [
      "Module: english, Class: CAS, Count: 247, QuestionId: 84b5125b\n",
      "Module: english, Class: EOI, Count: 189, QuestionId: afec1a70\n",
      "Module: english, Class: INI, Count: 291, QuestionId: f1bfbed3\n",
      "Module: english, Class: SEC, Count: 211, QuestionId: de55ec71\n",
      "Module: math, Class: H, Count: 343, QuestionId: 002dba45\n",
      "Module: math, Class: P, Count: 306, QuestionId: beca03de\n",
      "Module: math, Class: Q, Count: 277, QuestionId: 85939da5\n",
      "Module: math, Class: S, Count: 153, QuestionId: 6d99b141\n"
     ]
    }
   ],
   "execution_count": 19
  },
  {
   "metadata": {
    "ExecuteTime": {
     "end_time": "2024-06-03T04:30:45.728596Z",
     "start_time": "2024-06-03T04:30:45.721274Z"
    }
   },
   "cell_type": "code",
   "source": [
    "def questions_id(filter_s: str = '') -> List[str]:\n",
    "    query = Question.select(Question.questionId).where(\n",
    "        *(key_to_query_filter(filter_s) or [None])\n",
    "    )\n",
    "    return [q.questionId for q in query]\n",
    "\n",
    "def questions_count(filter_s: str = '') -> int:\n",
    "    return Question.select(Question.questionId).where(\n",
    "        *(key_to_query_filter(filter_s) or [None])\n",
    "    ).count()\n",
    "\n",
    "len(questions_id('module:math-class:all-skill:all-difficulty:all-active:bluebook'))"
   ],
   "id": "4c610ea5a6b347ad",
   "outputs": [
    {
     "name": "stdout",
     "output_type": "stream",
     "text": [
      "module math\n",
      "class all\n",
      "skill all\n",
      "difficulty ['all']\n",
      "active bluebook\n",
      "{'module': 'math', 'active': True}\n"
     ]
    },
    {
     "data": {
      "text/plain": [
       "508"
      ]
     },
     "execution_count": 71,
     "metadata": {},
     "output_type": "execute_result"
    }
   ],
   "execution_count": 71
  },
  {
   "metadata": {
    "ExecuteTime": {
     "end_time": "2024-06-03T15:38:38.260225Z",
     "start_time": "2024-06-03T15:38:38.256054Z"
    }
   },
   "cell_type": "code",
   "source": "Question.select().where(Question.module=='english', Question.active==None).count()",
   "id": "22f00b1884c816f2",
   "outputs": [
    {
     "data": {
      "text/plain": [
       "0"
      ]
     },
     "execution_count": 13,
     "metadata": {},
     "output_type": "execute_result"
    }
   ],
   "execution_count": 13
  },
  {
   "metadata": {
    "ExecuteTime": {
     "end_time": "2024-06-03T17:34:57.557713Z",
     "start_time": "2024-06-03T17:34:57.539609Z"
    }
   },
   "cell_type": "code",
   "source": [
    "def a(**kwargs):\n",
    "    print(kwargs)\n",
    "    \n",
    "a(class=1)"
   ],
   "id": "f8df365709cdb5db",
   "outputs": [
    {
     "ename": "SyntaxError",
     "evalue": "invalid syntax (2070734320.py, line 4)",
     "output_type": "error",
     "traceback": [
      "\u001B[1;36m  Cell \u001B[1;32mIn[14], line 4\u001B[1;36m\u001B[0m\n\u001B[1;33m    a(class=1)\u001B[0m\n\u001B[1;37m      ^\u001B[0m\n\u001B[1;31mSyntaxError\u001B[0m\u001B[1;31m:\u001B[0m invalid syntax\n"
     ]
    }
   ],
   "execution_count": 14
  },
  {
   "metadata": {},
   "cell_type": "code",
   "outputs": [],
   "execution_count": null,
   "source": "",
   "id": "c0b18919b7c74c6d"
  }
 ],
 "metadata": {
  "kernelspec": {
   "display_name": "Python 3",
   "language": "python",
   "name": "python3"
  },
  "language_info": {
   "codemirror_mode": {
    "name": "ipython",
    "version": 2
   },
   "file_extension": ".py",
   "mimetype": "text/x-python",
   "name": "python",
   "nbconvert_exporter": "python",
   "pygments_lexer": "ipython2",
   "version": "2.7.6"
  }
 },
 "nbformat": 4,
 "nbformat_minor": 5
}
