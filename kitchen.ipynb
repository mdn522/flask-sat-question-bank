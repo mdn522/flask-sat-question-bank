{
 "cells": [
  {
   "cell_type": "code",
   "id": "initial_id",
   "metadata": {
    "collapsed": true,
    "ExecuteTime": {
     "end_time": "2024-06-03T15:36:28.769586Z",
     "start_time": "2024-06-03T15:36:28.743237Z"
    }
   },
   "source": [
    "import json\n",
    "from pathlib import Path\n",
    "from typing import List, Optional, Dict, Any, Union\n",
    "from peewee import *\n",
    "import os"
   ],
   "execution_count": 6,
   "outputs": []
  },
  {
   "metadata": {
    "ExecuteTime": {
     "end_time": "2024-06-03T15:36:30.064619Z",
     "start_time": "2024-06-03T15:36:30.053795Z"
    }
   },
   "cell_type": "code",
   "source": [
    "import importlib\n",
    "import core\n",
    "importlib.reload(core)\n",
    "from core import db, Question\n",
    "from core import parse_key, get_key, key_to_query_filter"
   ],
   "id": "efe7ec214726d54e",
   "execution_count": 7,
   "outputs": []
  },
  {
   "metadata": {
    "ExecuteTime": {
     "end_time": "2024-06-03T13:47:17.795992Z",
     "start_time": "2024-06-03T13:47:17.779974Z"
    }
   },
   "cell_type": "code",
   "source": [
    "from core import get_categories\n",
    "get_categories('difficulty:easy')"
   ],
   "id": "8de77aba1f877e86",
   "execution_count": 5,
   "outputs": []
  },
  {
   "metadata": {
    "ExecuteTime": {
     "end_time": "2024-06-03T03:37:58.277990Z",
     "start_time": "2024-06-03T03:37:58.273369Z"
    }
   },
   "cell_type": "code",
   "source": [
    "# DB Connect\n",
    "db = SqliteDatabase('data/index.db')\n",
    "db.connect()"
   ],
   "id": "df8a826ec8a73126",
   "execution_count": 2,
   "outputs": []
  },
  {
   "metadata": {
    "ExecuteTime": {
     "end_time": "2024-05-28T09:34:11.939953Z",
     "start_time": "2024-05-28T09:34:11.929492Z"
    }
   },
   "cell_type": "code",
   "source": [
    "# db.close()\n",
    "# os.remove('data/index.db')"
   ],
   "id": "cfd49a4d06636a34",
   "execution_count": 15,
   "outputs": []
  },
  {
   "metadata": {
    "ExecuteTime": {
     "end_time": "2024-06-03T03:37:58.481145Z",
     "start_time": "2024-06-03T03:37:58.277990Z"
    }
   },
   "cell_type": "code",
   "source": [
    "# Load data\n",
    "data_path = Path('.').parent / 'data'\n",
    "db_path = data_path / r\"cb-digital-questions.json\"\n",
    "with db_path.open(encoding='utf-8') as fp:\n",
    "    questions = json.load(fp)\n",
    "\n",
    "with (data_path / r\"lookup.json\").open(encoding='utf-8') as fp:\n",
    "    filter_data = json.load(fp)\n",
    "\n",
    "    for k, v in [('mathLiveItems', 'math'), ('readingLiveItems', 'english')]:\n",
    "        filter_data[v] = filter_data[k]\n",
    "        del filter_data[k]\n",
    "\n",
    "question_id_map = {}\n",
    "for q_id, q in questions.items():\n",
    "    question_id_map[q['questionId']] = q_id"
   ],
   "id": "c9a2d219f07279da",
   "execution_count": 3,
   "outputs": []
  },
  {
   "metadata": {
    "ExecuteTime": {
     "end_time": "2024-06-03T03:37:58.485696Z",
     "start_time": "2024-06-03T03:37:58.482161Z"
    }
   },
   "cell_type": "code",
   "source": "",
   "id": "d366c041a487dc4d",
   "execution_count": 4,
   "outputs": []
  },
  {
   "metadata": {
    "ExecuteTime": {
     "end_time": "2024-05-28T09:40:18.983129Z",
     "start_time": "2024-05-28T09:40:18.967228Z"
    }
   },
   "cell_type": "code",
   "source": [
    "# Create Tables\n",
    "db.drop_tables([Question])\n",
    "db.create_tables([Question])"
   ],
   "id": "8a7a79c9f7270ef8",
   "execution_count": 31,
   "outputs": []
  },
  {
   "metadata": {
    "ExecuteTime": {
     "end_time": "2024-06-03T03:37:58.493858Z",
     "start_time": "2024-06-03T03:37:58.487221Z"
    }
   },
   "cell_type": "code",
   "source": "",
   "id": "57124a0a9944caca",
   "execution_count": 5,
   "outputs": []
  },
  {
   "metadata": {
    "ExecuteTime": {
     "end_time": "2024-05-28T09:40:24.452656Z",
     "start_time": "2024-05-28T09:40:24.354652Z"
    }
   },
   "cell_type": "code",
   "source": [
    "# Add Question to DB\n",
    "questions_model = []\n",
    "for q_id, q_meta in questions.items():\n",
    "    question = Question(\n",
    "        q_id=q_id,\n",
    "        questionId=q_meta['questionId'],\n",
    "        skill_cd=q_meta['skill_cd'],\n",
    "        score_band_range_cd=q_meta['score_band_range_cd'],\n",
    "        uId=q_meta['uId'],\n",
    "        program=q_meta['program'],\n",
    "        external_id=q_meta['external_id'],\n",
    "        primary_class_cd=q_meta['primary_class_cd'],\n",
    "        difficulty=q_meta['difficulty'],\n",
    "        module=q_meta['module'],\n",
    "        active=q_meta['external_id'] in filter_data[q_meta['module']]\n",
    "    )\n",
    "    questions_model.append(question)\n",
    "\n",
    "Question.bulk_create(questions_model)"
   ],
   "id": "bb8e7223d36ac1dd",
   "execution_count": 32,
   "outputs": []
  },
  {
   "metadata": {
    "ExecuteTime": {
     "end_time": "2024-06-03T03:37:58.976240Z",
     "start_time": "2024-06-03T03:37:58.970655Z"
    }
   },
   "cell_type": "code",
   "source": "Question.select().where(Question.active == False).count()",
   "id": "d020fa020d91227e",
   "execution_count": 6,
   "outputs": []
  },
  {
   "metadata": {
    "ExecuteTime": {
     "end_time": "2024-06-03T03:38:00.502547Z",
     "start_time": "2024-06-03T03:38:00.498556Z"
    }
   },
   "cell_type": "code",
   "source": [
    "def questions_filter(where = None) -> List[Question]:\n",
    "    print(Question.select().where(where).count())\n",
    "    \n",
    "    # query = Question.select().where(\n",
    "    #     Question.module == module,\n",
    "    #     Question.skill_cd == skill_cd,\n",
    "    #     Question.primary_class_cd == primary_class_cd,\n",
    "    #     Question.active.in_(active)\n",
    "    # )\n",
    "    # \n",
    "    # return list(query)"
   ],
   "id": "8db233fe2ca78f64",
   "execution_count": 7,
   "outputs": []
  },
  {
   "metadata": {
    "ExecuteTime": {
     "end_time": "2024-06-03T03:38:01.236632Z",
     "start_time": "2024-06-03T03:38:01.231886Z"
    }
   },
   "cell_type": "code",
   "source": "questions_filter(module='math')",
   "id": "f53791518fb902e4",
   "execution_count": 8,
   "outputs": []
  },
  {
   "metadata": {
    "ExecuteTime": {
     "end_time": "2024-06-03T04:30:44.933079Z",
     "start_time": "2024-06-03T04:30:44.921463Z"
    }
   },
   "cell_type": "code",
   "source": [
    "\n",
    "\n",
    "print(parse_key(''))\n",
    "\n",
    "parse_key(get_key(module='math', primary_class_cd='CAS', skill_cd='all', difficulty='all', active='all'))"
   ],
   "id": "c23989d089dd9c9a",
   "execution_count": 70,
   "outputs": []
  },
  {
   "metadata": {
    "ExecuteTime": {
     "end_time": "2024-06-03T03:52:25.506526Z",
     "start_time": "2024-06-03T03:52:25.496322Z"
    }
   },
   "cell_type": "code",
   "source": "",
   "id": "b4932e50ba4085b6",
   "execution_count": 29,
   "outputs": []
  },
  {
   "metadata": {
    "ExecuteTime": {
     "end_time": "2024-05-30T16:23:35.528058Z",
     "start_time": "2024-05-30T16:23:35.521788Z"
    }
   },
   "cell_type": "code",
   "source": [
    "# category -> subcategory\n",
    "# primary_class_cd -> skill_cd\n",
    "\n",
    "query = (\n",
    "    Question.select(\n",
    "        Question.primary_class_cd.alias(\"primary_class\"),\n",
    "        Question.skill_cd.alias(\"skill\"),\n",
    "        # fn.COUNT(Question.primary_class_cd).filter(Question.primary_class_cd == Question.primary_class_cd).alias(\"primary_class_count\"),\n",
    "        # SQL(\"(SELECT Count(*) FROM question WHERE primary_class_cd = primary_class_cd) as primary_class_count\"),\n",
    "        (Question.select(SQL('COUNT(*) AS primary_class_count')).where(Question.primary_class_cd == Question.primary_class_cd).order_by(Question.primary_class_cd).group_by(Question.primary_class_cd)).alias(\"primary_class_count\"),\n",
    "        \n",
    "        # fn.COUNT(Question.primary_class_cd).alias(\"primary_class_count\"),\n",
    "        fn.COUNT(Question.skill_cd).alias(\"skill_count\"),\n",
    "    )\n",
    "    # .where(Question.difficulty == 'E')\n",
    "    .order_by(Question.module, Question.primary_class_cd, Question.skill_cd)\n",
    "    .group_by(Question.module, Question.skill_cd)\n",
    ")\n",
    "\n",
    "# Execute the query and iterate through results\n",
    "for row in query:\n",
    "    print(\n",
    "        f\"primary_class: {row.primary_class}, skill: {row.skill}, primary_class_count: {row.primary_class_count}, skill_count: {row.skill_count}\"\n",
    "    )"
   ],
   "id": "79e9c503ecee5313",
   "execution_count": 15,
   "outputs": []
  },
  {
   "metadata": {
    "ExecuteTime": {
     "end_time": "2024-06-03T03:42:50.870470Z",
     "start_time": "2024-06-03T03:42:50.865253Z"
    }
   },
   "cell_type": "code",
   "source": [
    "question_class_counts = (\n",
    "    Question.select(\n",
    "        Question.module, \n",
    "        Question.primary_class_cd, \n",
    "        fn.COUNT().alias('count'),\n",
    "        Question.questionId.alias('first_question_id_class')\n",
    "    )\n",
    "    # .where(Question.difficulty == 'E')\n",
    "    .order_by(Question.module, Question.primary_class_cd)\n",
    "    .group_by(Question.primary_class_cd)\n",
    ")\n",
    "\n",
    "for question in question_class_counts:\n",
    "    print(f\"Module: {question.module}, Class: {question.primary_class_cd}, Count: {question.count}, QuestionId: {question.first_question_id_class}\")"
   ],
   "id": "111c7fed58a2e56a",
   "execution_count": 19,
   "outputs": []
  },
  {
   "metadata": {
    "ExecuteTime": {
     "end_time": "2024-06-03T04:30:45.728596Z",
     "start_time": "2024-06-03T04:30:45.721274Z"
    }
   },
   "cell_type": "code",
   "source": [
    "def questions_id(filter_s: str = '') -> List[str]:\n",
    "    query = Question.select(Question.questionId).where(\n",
    "        *(key_to_query_filter(filter_s) or [None])\n",
    "    )\n",
    "    return [q.questionId for q in query]\n",
    "\n",
    "def questions_count(filter_s: str = '') -> int:\n",
    "    return Question.select(Question.questionId).where(\n",
    "        *(key_to_query_filter(filter_s) or [None])\n",
    "    ).count()\n",
    "\n",
    "len(questions_id('module:math-class:all-skill:all-difficulty:all-active:bluebook'))"
   ],
   "id": "4c610ea5a6b347ad",
   "execution_count": 71,
   "outputs": []
  },
  {
   "metadata": {
    "ExecuteTime": {
     "end_time": "2024-06-03T15:38:38.260225Z",
     "start_time": "2024-06-03T15:38:38.256054Z"
    }
   },
   "cell_type": "code",
   "source": "Question.select().where(Question.module=='english', Question.active==None).count()",
   "id": "22f00b1884c816f2",
   "execution_count": 13,
   "outputs": []
  },
  {
   "metadata": {
    "ExecuteTime": {
     "end_time": "2024-06-03T17:34:57.557713Z",
     "start_time": "2024-06-03T17:34:57.539609Z"
    }
   },
   "cell_type": "code",
   "source": [
    "def a(**kwargs):\n",
    "    print(kwargs)\n",
    "    \n",
    "a(class=1)"
   ],
   "id": "f8df365709cdb5db",
   "execution_count": 14,
   "outputs": []
  },
  {
   "metadata": {},
   "cell_type": "code",
   "execution_count": null,
   "source": "",
   "id": "c0b18919b7c74c6d",
   "outputs": []
  }
 ],
 "metadata": {
  "kernelspec": {
   "display_name": "Python 3",
   "language": "python",
   "name": "python3"
  },
  "language_info": {
   "codemirror_mode": {
    "name": "ipython",
    "version": 2
   },
   "file_extension": ".py",
   "mimetype": "text/x-python",
   "name": "python",
   "nbconvert_exporter": "python",
   "pygments_lexer": "ipython2",
   "version": "2.7.6"
  }
 },
 "nbformat": 4,
 "nbformat_minor": 5
}
